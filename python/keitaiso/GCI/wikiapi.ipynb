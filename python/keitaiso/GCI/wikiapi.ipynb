{
 "cells": [
  {
   "cell_type": "code",
   "execution_count": 4,
   "metadata": {
    "collapsed": false
   },
   "outputs": [],
   "source": [
    "import urllib2, sys, random\n",
    "import xml.etree.ElementTree as etree\n",
    "from wikiapi import links"
   ]
  },
  {
   "cell_type": "code",
   "execution_count": 5,
   "metadata": {
    "collapsed": false
   },
   "outputs": [],
   "source": [
    "def result(word, option=None, N=6):\n",
    "    output = links(word)\n",
    "\n",
    "    if option == 'random':\n",
    "        words = []\n",
    "        for i in range(N):\n",
    "            words.append(word)\n",
    "            output = links(word)\n",
    "            if len(output) == 0 or i == N-1:\n",
    "                break\n",
    "            word = output[random.randint(0, len(output)-1)]\n",
    "        print ' -> '.join(words) + ', %s chains.' % len(words)\n",
    "    elif option == 'break':\n",
    "        for o in output:\n",
    "            print o\n",
    "        print len(output), 'links.'\n",
    "    else:\n",
    "        print ', '.join(output)\n",
    "        print len(output), 'links.'"
   ]
  },
  {
   "cell_type": "code",
   "execution_count": 17,
   "metadata": {
    "collapsed": false
   },
   "outputs": [
    {
     "name": "stdout",
     "output_type": "stream",
     "text": [
      "1975年, Portable Document Format, Twitter, スタンフォード大学, バーチャル国際典拠ファイル, 人工知能学会, 典拠管理, 准教授, 博士（工学）, 国立国会図書館, 工学者, 日本, 東京大学大学院工学系研究科・工学部, 産業技術総合研究所, 科学者, 角川EpuB選書\n",
      "16 links.\n"
     ]
    }
   ],
   "source": [
    "result(word='松尾豊')"
   ]
  },
  {
   "cell_type": "code",
   "execution_count": 18,
   "metadata": {
    "collapsed": false
   },
   "outputs": [
    {
     "name": "stdout",
     "output_type": "stream",
     "text": [
      "1975年\n",
      "Portable Document Format\n",
      "Twitter\n",
      "スタンフォード大学\n",
      "バーチャル国際典拠ファイル\n",
      "人工知能学会\n",
      "典拠管理\n",
      "准教授\n",
      "博士（工学）\n",
      "国立国会図書館\n",
      "工学者\n",
      "日本\n",
      "東京大学大学院工学系研究科・工学部\n",
      "産業技術総合研究所\n",
      "科学者\n",
      "角川EpuB選書\n",
      "16 links.\n"
     ]
    }
   ],
   "source": [
    "result(word='松尾豊', option='break')"
   ]
  },
  {
   "cell_type": "code",
   "execution_count": 22,
   "metadata": {
    "collapsed": false
   },
   "outputs": [
    {
     "name": "stdout",
     "output_type": "stream",
     "text": [
      "東京大学 -> 附属学校 -> 学校教育 -> 憲法 -> 契約 -> 電気事業法, 6 chains.\n"
     ]
    }
   ],
   "source": [
    "result(word='東京大学', option='random')"
   ]
  },
  {
   "cell_type": "code",
   "execution_count": 23,
   "metadata": {
    "collapsed": false,
    "scrolled": true
   },
   "outputs": [
    {
     "name": "stdout",
     "output_type": "stream",
     "text": [
      "東京大学 -> 蕃書調所 -> 2月11日 (旧暦) -> 2月18日 (旧暦) -> 上野国 -> 伊予国, 6 chains.\n",
      "東京大学 -> 漕艇 -> ボート競技 -> 舵 -> 失速 -> 鳥類, 6 chains.\n",
      "東京大学 -> 鹿児島大学 -> 名寄市立大学 -> 東海地方 -> 木曽山脈 -> 昭文社, 6 chains.\n",
      "東京大学 -> ダボス会議 -> 世界経済フォーラム -> ビル・ゲイツ -> ニューメキシコ州 -> コネチカット州, 6 chains.\n",
      "東京大学 -> 島根大学 -> 1949年 -> リカルド・ズニーノ -> 1980年ブラジルグランプリ, 5 chains.\n",
      "東京大学 -> 英吉利法律学校 -> 吉川弘文館 -> 合資会社 -> 持分会社 -> 共有, 6 chains.\n",
      "東京大学 -> 東京六大学対抗グライダー競技会 -> コンバットマーチ -> スーパーフリー事件 -> 地雷 -> 電子掲示板, 6 chains.\n",
      "東京大学 -> 医学士 -> 学士（医学） -> 4年制博士課程 -> 大学院 -> 2003年, 6 chains.\n",
      "東京大学 -> 鳴門教育大学 -> 東京農工大学 -> 中東 -> アスマラ -> フランス, 6 chains.\n",
      "東京大学 -> 富山大学 -> 薬学部 -> 理科 -> 2008年 -> ジョージ・ウォーカー・ブッシュ, 6 chains.\n"
     ]
    }
   ],
   "source": [
    "for i in range(10):\n",
    "    result(word='東京大学', option='random')"
   ]
  }
 ],
 "metadata": {
  "kernelspec": {
   "display_name": "Python 2",
   "language": "python",
   "name": "python2"
  },
  "language_info": {
   "codemirror_mode": {
    "name": "ipython",
    "version": 2
   },
   "file_extension": ".py",
   "mimetype": "text/x-python",
   "name": "python",
   "nbconvert_exporter": "python",
   "pygments_lexer": "ipython2",
   "version": "2.7.9"
  }
 },
 "nbformat": 4,
 "nbformat_minor": 0
}
